{
 "cells": [
  {
   "cell_type": "markdown",
   "id": "32a4b65a-8a70-4190-9738-a85e795908d6",
   "metadata": {},
   "source": [
    "## Read Me\n",
    "\n",
    "All the codes are taken from lecture notes and ChatGPT.\n",
    "\n",
    "The GitHub repositry folder is organized thus way:\n",
    "1. SursfUp folder\n",
    "    - Resources folder - contain the hawaii.sqlit, and 2 csv files.\n",
    "    - cimiate_starter_Final.ipynb - this is the final version of the Jupyter Notebook codes\n",
    "    - climate_starte.ypynb - this was the original started codes given for the Challenge\n",
    "    \n",
    "    \n",
    "    \n",
    "2. .gitignore and README files\n",
    "\n",
    "Part 1: Analyse and Explore the Climate Data\n",
    "Using the climate_starter.ipynb, the codes were constructed to output the required result.\n",
    "\n",
    "1.1 Precipitation Analysis:\n",
    "1. Find the most recent date in the dataset.\n",
    "- latest date is 23-07-2023\n",
    "\n",
    "2-6. Using that date, get the previous 12 months of precipitation data by querying the previous 12 months of data.\n",
    "- As displayed in the required histogram\n",
    "\n",
    "7. Summary statistics are given fo the precipitation data.\n",
    "\n",
    "1.3 Station Analysis\n",
    "1. Total number of stations\n",
    "2. Most-active stations = \n",
    "3. Histogram of the Temperature for the last 12 months\n",
    "\n",
    "Part 2: Design Your Climate App\n",
    "Using flask to design the Climate App as required.\n"
   ]
  },
  {
   "cell_type": "code",
   "execution_count": null,
   "id": "425ae9a9-3345-4150-a40f-afa9f5d3c182",
   "metadata": {},
   "outputs": [],
   "source": []
  }
 ],
 "metadata": {
  "kernelspec": {
   "display_name": "PythonData",
   "language": "python",
   "name": "pythondata"
  },
  "language_info": {
   "codemirror_mode": {
    "name": "ipython",
    "version": 3
   },
   "file_extension": ".py",
   "mimetype": "text/x-python",
   "name": "python",
   "nbconvert_exporter": "python",
   "pygments_lexer": "ipython3",
   "version": "3.11.4"
  }
 },
 "nbformat": 4,
 "nbformat_minor": 5
}
